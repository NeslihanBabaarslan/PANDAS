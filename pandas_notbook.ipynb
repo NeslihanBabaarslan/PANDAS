{
  "nbformat": 4,
  "nbformat_minor": 0,
  "metadata": {
    "colab": {
      "name": "pandas notbook",
      "provenance": [],
      "collapsed_sections": [],
      "authorship_tag": "ABX9TyN0BCCGPsET3VasrZxLU86k",
      "include_colab_link": true
    },
    "kernelspec": {
      "name": "python3",
      "display_name": "Python 3"
    },
    "language_info": {
      "name": "python"
    }
  },
  "cells": [
    {
      "cell_type": "markdown",
      "metadata": {
        "id": "view-in-github",
        "colab_type": "text"
      },
      "source": [
        "<a href=\"https://colab.research.google.com/github/Nil1205/PANDAS/blob/main/pandas_notbook.ipynb\" target=\"_parent\"><img src=\"https://colab.research.google.com/assets/colab-badge.svg\" alt=\"Open In Colab\"/></a>"
      ]
    },
    {
      "cell_type": "markdown",
      "source": [
        "1.Dosya okutma"
      ],
      "metadata": {
        "id": "0FZVlVB4w9N3"
      }
    },
    {
      "cell_type": "code",
      "execution_count": null,
      "metadata": {
        "id": "j84ctSqRw5N4"
      },
      "outputs": [],
      "source": [
        "pd.read_csv(\"adult_eda.csv\")\n",
        "pd.read_csv(\"../data&resources/adult_eda.csv\")"
      ]
    },
    {
      "cell_type": "markdown",
      "source": [
        "2.Row and columns number"
      ],
      "metadata": {
        "id": "RQngmq3-xOCc"
      }
    },
    {
      "cell_type": "code",
      "source": [
        "df.shape\n",
        "len(df.index), len(df.columns)"
      ],
      "metadata": {
        "id": "RjPb71SQxTTg"
      },
      "execution_count": null,
      "outputs": []
    },
    {
      "cell_type": "markdown",
      "source": [
        "3.İnfo and statistic description"
      ],
      "metadata": {
        "id": "Wkl1dLN1x9ZU"
      }
    },
    {
      "cell_type": "code",
      "source": [
        "df.info()\n",
        "df.description\n",
        "df.description.T"
      ],
      "metadata": {
        "id": "wKkOtt26x88B"
      },
      "execution_count": null,
      "outputs": []
    },
    {
      "cell_type": "markdown",
      "source": [
        "4.The number of np.nan values for each columns"
      ],
      "metadata": {
        "id": "XnIYrv8ZycHX"
      }
    },
    {
      "cell_type": "code",
      "source": [
        "df.isnull() #true or false according to np.nan\n",
        "df.isnull().sum() # the number of np.nan values for each columns\n",
        "df.isnull().sum().sum() # the total np.nan number of database."
      ],
      "metadata": {
        "id": "0Vu9KPOayiuW"
      },
      "execution_count": null,
      "outputs": []
    },
    {
      "cell_type": "markdown",
      "source": [
        "5. Description of columns/index"
      ],
      "metadata": {
        "id": "GQkYPuXUzK38"
      }
    },
    {
      "cell_type": "code",
      "source": [
        "df.columns"
      ],
      "metadata": {
        "id": "uL_RMG1AzQws"
      },
      "execution_count": null,
      "outputs": []
    },
    {
      "cell_type": "code",
      "source": [
        "len(df.columns) # the number of columns"
      ],
      "metadata": {
        "id": "_lqOKXjWzh17"
      },
      "execution_count": null,
      "outputs": []
    },
    {
      "cell_type": "code",
      "source": [
        "df.index  "
      ],
      "metadata": {
        "id": "HVSs9pJUzXc4"
      },
      "execution_count": null,
      "outputs": []
    },
    {
      "cell_type": "code",
      "source": [
        "len(df.index) #the number of rows"
      ],
      "metadata": {
        "id": "FpB2r5UlzouD"
      },
      "execution_count": null,
      "outputs": []
    },
    {
      "cell_type": "markdown",
      "source": [
        "6. Description according to dtypes"
      ],
      "metadata": {
        "id": "IKPqiXYJztB3"
      }
    },
    {
      "cell_type": "code",
      "source": [
        "df.select_dtypes(include=\"onject\").describe() "
      ],
      "metadata": {
        "id": "wLPUwwmO0QOJ"
      },
      "execution_count": null,
      "outputs": []
    },
    {
      "cell_type": "markdown",
      "source": [
        "7. All columns information with for loop"
      ],
      "metadata": {
        "id": "kXHV0Q8M11aS"
      }
    },
    {
      "cell_type": "code",
      "source": [
        "#df.select_dtypes(include=\"onject\").describe()\n",
        "for col in object_col:\n",
        "    print(col)\n",
        "    print(\"--\"*5)\n",
        "    print(df[col].value_counts(dropna=False))\n",
        "    print(\"--\"*10)"
      ],
      "metadata": {
        "id": "WRHVPUrW2XCG"
      },
      "execution_count": null,
      "outputs": []
    },
    {
      "cell_type": "markdown",
      "source": [
        "8. Bütün kolonlarda özel bir nesneyi arama İSİN ile"
      ],
      "metadata": {
        "id": "y5eE4p3m3f_7"
      }
    },
    {
      "cell_type": "code",
      "source": [
        "df[df.isin([\"?\"])].any()"
      ],
      "metadata": {
        "id": "MrmNTDvR3k_P"
      },
      "execution_count": null,
      "outputs": []
    },
    {
      "cell_type": "code",
      "source": [
        "df.education.isin([\"Bachelors\", \"Masters\", \"Doctorate\"])"
      ],
      "metadata": {
        "id": "0C8ED_grVyjp"
      },
      "execution_count": null,
      "outputs": []
    },
    {
      "cell_type": "code",
      "source": [
        "(df.education=='Bachelors') | (df.education=='Masters') | (df.education=='Doctorate')"
      ],
      "metadata": {
        "id": "fdCvXPklV1FV"
      },
      "execution_count": null,
      "outputs": []
    },
    {
      "cell_type": "markdown",
      "source": [
        "9.Bir kolonun tamamınında değişiklik yapma REPLACE ile\n"
      ],
      "metadata": {
        "id": "81iv3Vdu4UCO"
      }
    },
    {
      "cell_type": "code",
      "source": [
        "# df.loc[df.workclass == \"?\", \"workclass\"] = \"Unknown\"\n",
        "df.workclass.replace('?','Unknown', inplace=True)\n",
        "\n",
        "# replace kolonun tamamında değişiklik yaparken str.replace hücre içinde değişiklik yapar"
      ],
      "metadata": {
        "id": "XAzC0zIr4czv"
      },
      "execution_count": null,
      "outputs": []
    },
    {
      "cell_type": "markdown",
      "source": [
        "10.Toplu replace yapımı"
      ],
      "metadata": {
        "id": "xESJwutt8RQW"
      }
    },
    {
      "cell_type": "code",
      "source": [
        "df=df.replace({\"?\":\"Unknown\"})"
      ],
      "metadata": {
        "id": "NnemuEPE8Oqn"
      },
      "execution_count": null,
      "outputs": []
    },
    {
      "cell_type": "code",
      "source": [
        "df.relationship.replace({np.nan:'Unmarried','Not-in-family':'Unmarried','Other-relative':'Unmarried'})"
      ],
      "metadata": {
        "id": "U1bTDj8OQeYA"
      },
      "execution_count": null,
      "outputs": []
    },
    {
      "cell_type": "code",
      "source": [
        "df.relationship.replace([np.nan, 'Not-in-family', 'Other-relative'], 'Unmarried')"
      ],
      "metadata": {
        "id": "7vPbhwrxQfN2"
      },
      "execution_count": null,
      "outputs": []
    },
    {
      "cell_type": "markdown",
      "source": [
        "11. Sadece bir kolonun değerlerinin sayısına bakmak VALUE_COUNTS()"
      ],
      "metadata": {
        "id": "wv211riJ4sxm"
      }
    },
    {
      "cell_type": "code",
      "source": [
        "df[\"emplyment\"].value_counts(dropna=False)"
      ],
      "metadata": {
        "id": "_Rop3V9P4sBz"
      },
      "execution_count": null,
      "outputs": []
    },
    {
      "cell_type": "markdown",
      "source": [
        "12.Kolonun sadece bir özel durumundaki dataframe çağırma"
      ],
      "metadata": {
        "id": "99y9E7u288jA"
      }
    },
    {
      "cell_type": "code",
      "source": [
        "df[df[\"workclass\"]==\"?\"]  # bu şekilde dataframe getirir"
      ],
      "metadata": {
        "id": "ElW1qPGS9CZs"
      },
      "execution_count": null,
      "outputs": []
    },
    {
      "cell_type": "code",
      "source": [
        "[df[\"workclass\"]==\"?\"]  # bu şekilde dataframe TRUE FALSE olarak getirir"
      ],
      "metadata": {
        "id": "2aGsHbuY9OXI"
      },
      "execution_count": null,
      "outputs": []
    },
    {
      "cell_type": "markdown",
      "source": [
        "13.Koloun içini görme yolları"
      ],
      "metadata": {
        "id": "g-gcOpgF-NxT"
      }
    },
    {
      "cell_type": "code",
      "source": [
        "df[\"education\"]  #index  value"
      ],
      "metadata": {
        "id": "XBhBGFdh-SAm"
      },
      "execution_count": null,
      "outputs": []
    },
    {
      "cell_type": "code",
      "source": [
        "df[\"education\"].value_count(dropna=False) #value sayısı ve counts sayısına göre bütükten küçüğe sıralanmış olarak getirir"
      ],
      "metadata": {
        "id": "pLdTIVok-a-i"
      },
      "execution_count": null,
      "outputs": []
    },
    {
      "cell_type": "code",
      "source": [
        "df[\"education\"].sort_values(by=, ascending= ) # index, value sıralar (by ve ascending göre sıralar)  "
      ],
      "metadata": {
        "id": "snT9s21h-jHc"
      },
      "execution_count": null,
      "outputs": []
    },
    {
      "cell_type": "code",
      "source": [
        "df[\"education\"].sort_index() # index value (indeks sıralar ascending göre)"
      ],
      "metadata": {
        "id": "6EZ0HpvI-70p"
      },
      "execution_count": null,
      "outputs": []
    },
    {
      "cell_type": "markdown",
      "source": [
        "14.Groupby örnekler"
      ],
      "metadata": {
        "id": "bZJ6Po9V_IVw"
      }
    },
    {
      "cell_type": "code",
      "source": [
        "df.groupby('education')['education-num'].value_counts(dropna=False)"
      ],
      "metadata": {
        "id": "qvDOVyou_pB2"
      },
      "execution_count": null,
      "outputs": []
    },
    {
      "cell_type": "code",
      "source": [
        "country_salary_df = df.groupby(\"native-country\")[[\"salary\"]].count()\n",
        "country_salary_df"
      ],
      "metadata": {
        "id": "qT2cR4wKbC71"
      },
      "execution_count": null,
      "outputs": []
    },
    {
      "cell_type": "code",
      "source": [
        "df[df.salary==\">50K\"].groupby(\"native-country\")[[\"salary\"]].count()"
      ],
      "metadata": {
        "id": "_fALiKBKbLfZ"
      },
      "execution_count": null,
      "outputs": []
    },
    {
      "cell_type": "markdown",
      "source": [
        "15.Kolon düşme silme"
      ],
      "metadata": {
        "id": "IPgyfX5TAV3u"
      }
    },
    {
      "cell_type": "code",
      "source": [
        "df.drop(\"education-num\", axis=1, inplace=True) # kolon düşerken herzaman axis=1 yazılır"
      ],
      "metadata": {
        "id": "7bQZS0fYAYxn"
      },
      "execution_count": null,
      "outputs": []
    },
    {
      "cell_type": "markdown",
      "source": [
        "16.IQR analiz"
      ],
      "metadata": {
        "id": "SHWeVnatBxTy"
      }
    },
    {
      "cell_type": "code",
      "source": [
        "low=df.age.quantile(0.25)"
      ],
      "metadata": {
        "id": "c3nqxyyIB2q-"
      },
      "execution_count": null,
      "outputs": []
    },
    {
      "cell_type": "code",
      "source": [
        "high=df.age.quantile(0.75)\n",
        "high"
      ],
      "metadata": {
        "id": "Jmw9XaTJB3vD"
      },
      "execution_count": null,
      "outputs": []
    },
    {
      "cell_type": "code",
      "source": [
        "IQR=high-low\n",
        "IQR"
      ],
      "metadata": {
        "id": "rqCcCmSqB5n4"
      },
      "execution_count": null,
      "outputs": []
    },
    {
      "cell_type": "code",
      "source": [
        "lower_lim=28- 1.5*IQR\n",
        "lower_lim"
      ],
      "metadata": {
        "id": "eZ2K-axoB8x5"
      },
      "execution_count": null,
      "outputs": []
    },
    {
      "cell_type": "code",
      "source": [
        "upper_lim= 48+ 1.5*IQR\n",
        "upper_lim"
      ],
      "metadata": {
        "id": "f5PfTHfkB-0L"
      },
      "execution_count": null,
      "outputs": []
    },
    {
      "cell_type": "code",
      "source": [
        "df[df[\"age\"]>78][\"age\"].value_counts()"
      ],
      "metadata": {
        "id": "wG_4ZjynEH-7"
      },
      "execution_count": null,
      "outputs": []
    },
    {
      "cell_type": "code",
      "source": [
        "low = df.age.quantile(0.25)\n",
        "high = df.age.quantile(0.75)\n",
        "IQR = high - low\n",
        "low, high, IQR"
      ],
      "metadata": {
        "id": "4hbSSnwlE7mn"
      },
      "execution_count": null,
      "outputs": []
    },
    {
      "cell_type": "code",
      "source": [
        "lower_lim = low - (1.5 * IQR)\n",
        "upper_lim = high + (1.5 * IQR)\n",
        "lower_lim, upper_lim"
      ],
      "metadata": {
        "id": "dtJoo7CFE8fJ"
      },
      "execution_count": null,
      "outputs": []
    },
    {
      "cell_type": "markdown",
      "source": [
        "17.Drop outlier değerleri"
      ],
      "metadata": {
        "id": "to8ZObE1H4uL"
      }
    },
    {
      "cell_type": "code",
      "source": [
        "df.relationship.replace(np.nan, \"None\", inplace=True)\n",
        "#df.relationship.fillna(\"None\", inplace=True)"
      ],
      "metadata": {
        "id": "WHd_2CY3OpEb"
      },
      "execution_count": null,
      "outputs": []
    },
    {
      "cell_type": "code",
      "source": [
        "# dropların indeksini bulma\n",
        "drop_index=df[(df['age']>=78) & (df['hours-per-week']>=53)].index\n",
        "drop_index"
      ],
      "metadata": {
        "id": "g7T4ahlEIO7d"
      },
      "execution_count": null,
      "outputs": []
    },
    {
      "cell_type": "code",
      "source": [
        "#outlierların dataframe verir\n",
        "df[(df['age']>78) & (df['hours-per-week']>52.5)]"
      ],
      "metadata": {
        "id": "aqnAHYsSLWTm"
      },
      "execution_count": null,
      "outputs": []
    },
    {
      "cell_type": "code",
      "source": [
        "#outleri düşürür datframeden \n",
        "df.drop(idex=drop_index, inplace=True)"
      ],
      "metadata": {
        "id": "givfiYjRLg7L"
      },
      "execution_count": null,
      "outputs": []
    },
    {
      "cell_type": "code",
      "source": [
        "# check outlier values which extends the upper limit in both age and hours-per-week columns\n",
        "df[(df['age']>78) & (df['hours-per-week']>52.5)]"
      ],
      "metadata": {
        "id": "MtG7LuC2Lw0D"
      },
      "execution_count": null,
      "outputs": []
    },
    {
      "cell_type": "markdown",
      "source": [
        "18.Condition yazma"
      ],
      "metadata": {
        "id": "4m5UHnGjEJdD"
      }
    },
    {
      "cell_type": "code",
      "source": [
        "df[df[\"age\"]>78][\"age\"].value_counts() #yaşın 78'den büyük olan notadaki yaş verilerinin sayısını alıp büyükten küçüğe sayısını sıralar yaşlarla bilrikte burada sadece age ve count getiiryor"
      ],
      "metadata": {
        "id": "vqsUOiPXEOt8"
      },
      "execution_count": null,
      "outputs": []
    },
    {
      "cell_type": "code",
      "source": [
        "df[df[\"age\"]>78].sort_values(by=\"age\", ascending=False)  #yaşların 78'den büyük olanları yaşa göre sıralayıp datafremin tamamını getiriyor."
      ],
      "metadata": {
        "id": "4vwHxyANFcxA"
      },
      "execution_count": null,
      "outputs": []
    },
    {
      "cell_type": "code",
      "source": [
        "df[df[\"hours-per-week\"] > 52.5].sort_values(by=\"hours-per-week\", ascending=False)"
      ],
      "metadata": {
        "id": "cDhJSq0yKi_O"
      },
      "execution_count": null,
      "outputs": []
    },
    {
      "cell_type": "code",
      "source": [
        "df[df[\"hours-per-week\"] > 52.5][\"hours-per-week\"].value_counts().sort_index(ascending=False) #çalışma saati 52.5 fazla olanların çalışma saatlerini bulup value_counts ile value ve sayılarına göre sıralıyor\n",
        "                                                                                                #sort_index ilede value değerleri küçükten bütüğe göre sıralayıo karşına bulunduğu count verşyor."
      ],
      "metadata": {
        "id": "4OzPzUGvKpWn"
      },
      "execution_count": null,
      "outputs": []
    },
    {
      "cell_type": "code",
      "source": [
        "df[(df[\"hours-per-week\"] == 99)].age.value_counts().sort_index(ascending=False)"
      ],
      "metadata": {
        "id": "-1lJflNyLBAF"
      },
      "execution_count": null,
      "outputs": []
    },
    {
      "cell_type": "code",
      "source": [
        "df.salary==\">50K\"  # True false döndürür"
      ],
      "metadata": {
        "id": "E7tCkoJbWRZU"
      },
      "execution_count": null,
      "outputs": []
    },
    {
      "cell_type": "code",
      "source": [
        "df[(df.education.isin([\"Bachelors\", \"Masters\", \"Doctorate\"])) & (df.salary == \">50K\")]"
      ],
      "metadata": {
        "id": "qq0uMB9yWngW"
      },
      "execution_count": null,
      "outputs": []
    },
    {
      "cell_type": "code",
      "source": [
        "df[(df.education.isin([\"Bachelors\", \"Masters\", \"Doctorate\"])) & (df.salary == \">50K\")]"
      ],
      "metadata": {
        "id": "L_1CPhksWrz6"
      },
      "execution_count": null,
      "outputs": []
    },
    {
      "cell_type": "code",
      "source": [
        "country_salary_df = df.groupby(\"native-country\")[[\"salary\"]].count()  #ülkeri hategori yapıp maaş sayar\n",
        "country_salary_df"
      ],
      "metadata": {
        "id": "CRx_cJtta0F0"
      },
      "execution_count": null,
      "outputs": []
    },
    {
      "cell_type": "markdown",
      "source": [
        "Value_counts= liste gelir value, sayısı olur.\n",
        "Sort_values veya Sort_index olur bunlar dataframe döndürür"
      ],
      "metadata": {
        "id": "D7ATNVS8KFm-"
      }
    },
    {
      "cell_type": "markdown",
      "source": [
        "19.Np.nan'ları None olarak değiştirme (np.nan groupby yapıldığında görülmüyor. None ile objetc yapılarak görünür hale getiriyoruz"
      ],
      "metadata": {
        "id": "Lutc_NdkOsSb"
      }
    },
    {
      "cell_type": "code",
      "source": [
        "df.relationship.replace(np.nan, \"None\", inplace=True)\n",
        "#df.relationship.fillna(\"None\", inplace=True)"
      ],
      "metadata": {
        "id": "iz_rjCd4KqSB"
      },
      "execution_count": null,
      "outputs": []
    },
    {
      "cell_type": "markdown",
      "source": [
        "bu işlemi sadece groupbyda nan görünmesi için yaparoz groupby ile işimiz bittikten sonra none np.nan çevrilir."
      ],
      "metadata": {
        "id": "TwlOlLlRQA18"
      }
    },
    {
      "cell_type": "code",
      "source": [
        "df.relationship.replace(\"None\", np.nan, inplace=True)"
      ],
      "metadata": {
        "id": "p2Rh-LZgQOOL"
      },
      "execution_count": null,
      "outputs": []
    },
    {
      "cell_type": "markdown",
      "source": [
        "20.Loc ile hücre verisi değiştirme"
      ],
      "metadata": {
        "id": "aTTI49vAQs6M"
      }
    },
    {
      "cell_type": "code",
      "source": [
        " df.loc[df.workclass == \"?\", \"workclass\"] = \"Unknown\"  # böyle yapmazsak replace ilede yapabilirz. yada np.nan fillna ile doldurulabilir."
      ],
      "metadata": {
        "id": "qcS7Aw-pQsh8"
      },
      "execution_count": null,
      "outputs": []
    },
    {
      "cell_type": "code",
      "source": [
        "df.relationship.replace(np.nan, \"None\", inplace=True) # bu np.nan'ı none dönüştürür"
      ],
      "metadata": {
        "id": "rb5WrUiKQ8iO"
      },
      "execution_count": null,
      "outputs": []
    },
    {
      "cell_type": "code",
      "source": [
        "df.relationship.fillna(\"None\", inplace=True)  # fillna np.nanı doldurur. burda none deindiliği için onla doldurur."
      ],
      "metadata": {
        "id": "Ml3_5eEDROpi"
      },
      "execution_count": null,
      "outputs": []
    },
    {
      "cell_type": "code",
      "source": [
        "rich_per_country.loc[rich_per_country.salary == rich_per_country.salary.max()]"
      ],
      "metadata": {
        "id": "Mcy7R2JWbzYG"
      },
      "execution_count": null,
      "outputs": []
    },
    {
      "cell_type": "code",
      "source": [
        "rich_per_country.loc[[rich_per_country.salary.idxmax()]]"
      ],
      "metadata": {
        "id": "Jc4Sjqtgb2xl"
      },
      "execution_count": null,
      "outputs": []
    },
    {
      "cell_type": "markdown",
      "source": [
        "21.LOC örnekleri"
      ],
      "metadata": {
        "id": "qQoME-GmSqcV"
      }
    },
    {
      "cell_type": "code",
      "source": [
        "average_age_men = df.loc[df['sex']=='Male','age'].mean()  #erkeklerin yaş ortalamasını verir   ==     #df[df.sex==\"Male\"][\"age\"].mean()\n",
        "average_age_men"
      ],
      "metadata": {
        "id": "zSzkZOYMSsn6"
      },
      "execution_count": null,
      "outputs": []
    },
    {
      "cell_type": "code",
      "source": [
        "round(average_age_men,1)"
      ],
      "metadata": {
        "id": "xKija6JjS4Yn"
      },
      "execution_count": null,
      "outputs": []
    },
    {
      "cell_type": "code",
      "source": [
        "df.education.value_counts().loc[\"Bachelors\"]"
      ],
      "metadata": {
        "id": "znVWpal6U9Hu"
      },
      "execution_count": null,
      "outputs": []
    },
    {
      "cell_type": "markdown",
      "source": [
        "22. Erkeklerin yaş ortalamasını alır."
      ],
      "metadata": {
        "id": "L4spCcDTTXK9"
      }
    },
    {
      "cell_type": "code",
      "source": [
        "df[df.sex==\"Male\"][\"age\"].mean()  ---  df.loc[df['sex']=='Male','age'].mean()  #AYNI"
      ],
      "metadata": {
        "id": "0jrPJ2XCTMEd"
      },
      "execution_count": null,
      "outputs": []
    },
    {
      "cell_type": "markdown",
      "source": [
        "23. value_counts yapılmış bir kolondan bir veri çekme Loc ile"
      ],
      "metadata": {
        "id": "DdGaF6jwU-2n"
      }
    },
    {
      "cell_type": "code",
      "source": [
        "df.education.value_counts().loc[\"Bachelors\"]"
      ],
      "metadata": {
        "id": "PTO7sqkiVJmW"
      },
      "execution_count": null,
      "outputs": []
    },
    {
      "cell_type": "markdown",
      "source": [
        "24. Belirli bir grubun dışında kolonda arama yapma TİLDE"
      ],
      "metadata": {
        "id": "BXKxPSSMXsok"
      }
    },
    {
      "cell_type": "code",
      "source": [
        "df_low_edu =df[~(df.education.isin([\"Bachelors\", \"Masters\", \"Doctorate\"])) & (df.salary == \">50K\")]"
      ],
      "metadata": {
        "id": "P5IWgqzaVNAY"
      },
      "execution_count": null,
      "outputs": []
    },
    {
      "cell_type": "markdown",
      "source": [
        "25.value_counts sonucunda oluşan seriden veri ama(SHAPE, LEN, İNDEX)"
      ],
      "metadata": {
        "id": "_s6kv1XxcyN9"
      }
    },
    {
      "cell_type": "code",
      "source": [
        "low_edu_high_sal = len(df[(~df.education.isin([\"Bachelors\", \"Masters\", \"Doctorate\"]))&(df.salary=='>50K')])\n",
        "total = df.shape[0]"
      ],
      "metadata": {
        "id": "XkrZ63zmX8LM"
      },
      "execution_count": null,
      "outputs": []
    },
    {
      "cell_type": "code",
      "source": [
        "per=low/total"
      ],
      "metadata": {
        "id": "ee0vP8uFYBTk"
      },
      "execution_count": null,
      "outputs": []
    },
    {
      "cell_type": "code",
      "source": [
        "df[lazy_riches].shape[0]"
      ],
      "metadata": {
        "id": "OgrZqu0jZ8N9"
      },
      "execution_count": null,
      "outputs": []
    },
    {
      "cell_type": "code",
      "source": [
        "df[top_IN_occupation]['occupation'].value_counts().index[0]"
      ],
      "metadata": {
        "id": "gxFjWLkbcsl1"
      },
      "execution_count": null,
      "outputs": []
    },
    {
      "cell_type": "markdown",
      "source": [
        "26. Kümeleme işlemleri kesisim birleşme"
      ],
      "metadata": {
        "id": "TO99rfKFZh93"
      }
    },
    {
      "cell_type": "code",
      "source": [
        "(df['hours-per-week']==df['hours-per-week'].min()) & (df.salary=='>50K')        # True false döndürür"
      ],
      "metadata": {
        "id": "42e7D06OZnwo"
      },
      "execution_count": null,
      "outputs": []
    },
    {
      "cell_type": "code",
      "source": [
        "len(df[df['hours-per-week']==df['hours-per-week'].min()])                          # sayı verir"
      ],
      "metadata": {
        "id": "k7JKsksMaFNC"
      },
      "execution_count": null,
      "outputs": []
    },
    {
      "cell_type": "code",
      "source": [
        " (df[\"native-country\"]==\"India\") & (df.salary == \">50K\")                         # True False döndürür"
      ],
      "metadata": {
        "id": "QlGcL2uAcMaF"
      },
      "execution_count": null,
      "outputs": []
    },
    {
      "cell_type": "markdown",
      "source": [
        "27.Mode alma"
      ],
      "metadata": {
        "id": "ItiCQ-U7cfXV"
      }
    },
    {
      "cell_type": "code",
      "source": [
        "df[top_IN_occupation][\"occupation\"].mode()[0]"
      ],
      "metadata": {
        "id": "q4Aw9sYDciLN"
      },
      "execution_count": null,
      "outputs": []
    },
    {
      "cell_type": "markdown",
      "source": [
        "28. MAP ile get_dummies yapma"
      ],
      "metadata": {
        "id": "mPmRu2P2dJ6n"
      }
    },
    {
      "cell_type": "code",
      "source": [
        "df.salary.map({\"<=50K\":0, \">50K\":1})"
      ],
      "metadata": {
        "id": "k_SNC1hedPuq"
      },
      "execution_count": null,
      "outputs": []
    },
    {
      "cell_type": "markdown",
      "source": [
        "1"
      ],
      "metadata": {
        "id": "gOL6BM1AH2uD"
      }
    }
  ]
}
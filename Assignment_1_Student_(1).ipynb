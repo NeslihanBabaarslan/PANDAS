{
  "cells": [
    {
      "cell_type": "markdown",
      "metadata": {
        "id": "view-in-github",
        "colab_type": "text"
      },
      "source": [
        "<a href=\"https://colab.research.google.com/github/Nil1205/PANDAS/blob/main/Assignment_1_Student_(1).ipynb\" target=\"_parent\"><img src=\"https://colab.research.google.com/assets/colab-badge.svg\" alt=\"Open In Colab\"/></a>"
      ]
    },
    {
      "cell_type": "markdown",
      "metadata": {
        "id": "uKbgtvjgeB--"
      },
      "source": [
        "___\n",
        "\n",
        "<p style=\"text-align: center;\"><img src=\"https://docs.google.com/uc?id=1lY0Uj5R04yMY3-ZppPWxqCr5pvBLYPnV\" class=\"img-fluid\" alt=\"Rossum\"></p>"
      ]
    },
    {
      "cell_type": "markdown",
      "metadata": {
        "id": "MOopftZYeB_C"
      },
      "source": [
        "In this assignment you will start off with Numpy Exercises and then complete the whole Exercise with Pandas questions. All the subjects related to questions here already covered in preclass materials and in-class sessions. So good luck!\n"
      ]
    },
    {
      "cell_type": "markdown",
      "metadata": {
        "id": "YWUXLhI-eB_C"
      },
      "source": [
        "#### 1. Import NumPy Library"
      ]
    },
    {
      "cell_type": "code",
      "execution_count": 1,
      "metadata": {
        "id": "mCtg7MYNeB_D"
      },
      "outputs": [],
      "source": [
        "import numpy as np"
      ]
    },
    {
      "cell_type": "markdown",
      "metadata": {
        "id": "E-6oabcUeB_E"
      },
      "source": [
        "#### 2. Create an array from my_list=[5,10,15,20,25]"
      ]
    },
    {
      "cell_type": "code",
      "execution_count": 4,
      "metadata": {
        "colab": {
          "base_uri": "https://localhost:8080/"
        },
        "id": "KbUr7XLIeB_E",
        "outputId": "7653a628-b6d7-416f-8c4e-354efa4c86d1"
      },
      "outputs": [
        {
          "output_type": "execute_result",
          "data": {
            "text/plain": [
              "array([ 5, 10, 15, 20, 25])"
            ]
          },
          "metadata": {},
          "execution_count": 4
        }
      ],
      "source": [
        "my_list=[5,10,15,20,25]\n",
        "my_list=np.array(my_list)\n",
        "my_list\n",
        "\n",
        "my_list1=np.arange(5,30,5)\n",
        "my_list1"
      ]
    },
    {
      "cell_type": "markdown",
      "metadata": {
        "id": "J9UaMUU_eB_F"
      },
      "source": [
        "#### 3. Generate an array 5x5 zeros "
      ]
    },
    {
      "cell_type": "code",
      "execution_count": 15,
      "metadata": {
        "colab": {
          "base_uri": "https://localhost:8080/"
        },
        "id": "kIsiUYDPeB_G",
        "outputId": "8b512167-e96d-4f73-f8de-641f7036cd66"
      },
      "outputs": [
        {
          "output_type": "execute_result",
          "data": {
            "text/plain": [
              "array([[0., 0., 0., 0., 0.],\n",
              "       [0., 0., 0., 0., 0.],\n",
              "       [0., 0., 0., 0., 0.],\n",
              "       [0., 0., 0., 0., 0.],\n",
              "       [0., 0., 0., 0., 0.]])"
            ]
          },
          "metadata": {},
          "execution_count": 15
        }
      ],
      "source": [
        "zer=np.zeros((5,5))\n",
        "zer"
      ]
    },
    {
      "cell_type": "markdown",
      "metadata": {
        "id": "5A0QrMP-eB_H"
      },
      "source": [
        "#### 4. Generate an array 4x4 ones assign data type int"
      ]
    },
    {
      "cell_type": "code",
      "execution_count": 17,
      "metadata": {
        "colab": {
          "base_uri": "https://localhost:8080/"
        },
        "id": "iYA864LgeB_H",
        "outputId": "e8bbc676-1634-47dd-afa4-01661c418ac7"
      },
      "outputs": [
        {
          "output_type": "execute_result",
          "data": {
            "text/plain": [
              "array([[1, 1, 1, 1],\n",
              "       [1, 1, 1, 1],\n",
              "       [1, 1, 1, 1],\n",
              "       [1, 1, 1, 1]])"
            ]
          },
          "metadata": {},
          "execution_count": 17
        }
      ],
      "source": [
        "one=np.ones((4,4),dtype=int)\n",
        "one"
      ]
    },
    {
      "cell_type": "code",
      "source": [
        ""
      ],
      "metadata": {
        "id": "p_Osu2YtfqSh"
      },
      "execution_count": null,
      "outputs": []
    },
    {
      "cell_type": "markdown",
      "metadata": {
        "id": "ESANMmZHeB_I"
      },
      "source": [
        "#### 5. Make all the values of the array above 7"
      ]
    },
    {
      "cell_type": "code",
      "execution_count": 29,
      "metadata": {
        "colab": {
          "base_uri": "https://localhost:8080/"
        },
        "id": "LPOGW2N1eB_I",
        "outputId": "2acc71b6-9418-4bb9-c72e-f3c7f2cfe3e9"
      },
      "outputs": [
        {
          "output_type": "execute_result",
          "data": {
            "text/plain": [
              "array([[7, 7, 7, 7],\n",
              "       [7, 7, 7, 7],\n",
              "       [7, 7, 7, 7]])"
            ]
          },
          "metadata": {},
          "execution_count": 29
        }
      ],
      "source": [
        "sev=([7,7,7,7],[7,7,7,7],[7,7,7,7])\n",
        "sev=np.array(sev)\n",
        "sev"
      ]
    },
    {
      "cell_type": "markdown",
      "metadata": {
        "id": "OA3EaG46eB_J"
      },
      "source": [
        "#### 6. Create same array above with full method"
      ]
    },
    {
      "cell_type": "code",
      "execution_count": 20,
      "metadata": {
        "colab": {
          "base_uri": "https://localhost:8080/"
        },
        "id": "k5U-iSI4eB_J",
        "outputId": "32f04164-6e79-4c3a-f15e-f1c7947c6a8f"
      },
      "outputs": [
        {
          "output_type": "execute_result",
          "data": {
            "text/plain": [
              "array([[7, 7, 7, 7],\n",
              "       [7, 7, 7, 7],\n",
              "       [7, 7, 7, 7],\n",
              "       [7, 7, 7, 7]])"
            ]
          },
          "metadata": {},
          "execution_count": 20
        }
      ],
      "source": [
        "sev=np.full((4,4),7)\n",
        "sev"
      ]
    },
    {
      "cell_type": "code",
      "execution_count": null,
      "metadata": {
        "id": "I_LbjLiheB_J"
      },
      "outputs": [],
      "source": [
        ""
      ]
    },
    {
      "cell_type": "markdown",
      "metadata": {
        "id": "ThFq58dReB_K"
      },
      "source": [
        "#### 7. Create an array of even integers from 2 to 16 "
      ]
    },
    {
      "cell_type": "code",
      "execution_count": 22,
      "metadata": {
        "colab": {
          "base_uri": "https://localhost:8080/"
        },
        "id": "c5lql2umeB_K",
        "outputId": "33abc4e3-903a-4b2a-f364-6c1defad363b"
      },
      "outputs": [
        {
          "output_type": "execute_result",
          "data": {
            "text/plain": [
              "array([ 2,  4,  6,  8, 10, 12, 14, 16])"
            ]
          },
          "metadata": {},
          "execution_count": 22
        }
      ],
      "source": [
        "num=np.arange(2,17,2)\n",
        "num"
      ]
    },
    {
      "cell_type": "markdown",
      "metadata": {
        "id": "MDOwZ7OOeB_K"
      },
      "source": [
        "#### 8. Create a 5x5 matrix with values between 0 to 25"
      ]
    },
    {
      "cell_type": "code",
      "execution_count": 92,
      "metadata": {
        "colab": {
          "base_uri": "https://localhost:8080/"
        },
        "id": "SPJzi1_PeB_L",
        "outputId": "f2a932a8-496e-4c43-de78-fbdc11ff907d"
      },
      "outputs": [
        {
          "output_type": "execute_result",
          "data": {
            "text/plain": [
              "array([[ 0,  1,  2,  3,  4],\n",
              "       [ 5,  6,  7,  8,  9],\n",
              "       [10, 11, 12, 13, 14],\n",
              "       [15, 16, 17, 18, 19],\n",
              "       [20, 21, 22, 23, 24]])"
            ]
          },
          "metadata": {},
          "execution_count": 92
        }
      ],
      "source": [
        "max=np.arange(0,25).reshape(5,5)\n",
        "max"
      ]
    },
    {
      "cell_type": "markdown",
      "metadata": {
        "id": "bkkcf6eqeB_L"
      },
      "source": [
        "#### 9. Create a 5x5 matrix with values between 0 to 25 using linspace"
      ]
    },
    {
      "cell_type": "code",
      "execution_count": 34,
      "metadata": {
        "colab": {
          "base_uri": "https://localhost:8080/"
        },
        "id": "jWvnAnNEeB_M",
        "outputId": "024373fa-6c90-472f-bb69-c28fa7e35729"
      },
      "outputs": [
        {
          "output_type": "execute_result",
          "data": {
            "text/plain": [
              "array([[ 0,  1,  2,  3,  4],\n",
              "       [ 5,  6,  7,  8,  9],\n",
              "       [10, 11, 12, 13, 14],\n",
              "       [15, 16, 17, 18, 19],\n",
              "       [20, 21, 22, 23, 24]])"
            ]
          },
          "metadata": {},
          "execution_count": 34
        }
      ],
      "source": [
        "lin=np.linspace(0,25,25, endpoint=False,dtype=int).reshape(5,5)\n",
        "lin"
      ]
    },
    {
      "cell_type": "markdown",
      "metadata": {
        "id": "omcD4VoleB_M"
      },
      "source": [
        "#### 10. Create 5 random number with numpy"
      ]
    },
    {
      "cell_type": "code",
      "execution_count": 36,
      "metadata": {
        "colab": {
          "base_uri": "https://localhost:8080/"
        },
        "id": "VJ9wnIIieB_M",
        "outputId": "ac29c04d-8fdd-40e9-b15c-007e57e0e789"
      },
      "outputs": [
        {
          "output_type": "execute_result",
          "data": {
            "text/plain": [
              "array([0.553978  , 0.53167513, 0.83270568, 0.00879596, 0.90320895])"
            ]
          },
          "metadata": {},
          "execution_count": 36
        }
      ],
      "source": [
        "ran=np.random.rand(5)\n",
        "ran"
      ]
    },
    {
      "cell_type": "markdown",
      "metadata": {
        "id": "XmdWwwj1eB_M"
      },
      "source": [
        "#### 11. Create random normal distributed 5x5 array"
      ]
    },
    {
      "cell_type": "code",
      "execution_count": 38,
      "metadata": {
        "colab": {
          "base_uri": "https://localhost:8080/"
        },
        "id": "Ol2BZEGfeB_M",
        "outputId": "11e35904-0ec1-479f-e017-801beb3e960a"
      },
      "outputs": [
        {
          "output_type": "execute_result",
          "data": {
            "text/plain": [
              "array([[-1.1862052 , -2.20334337,  1.40244629, -1.06835058,  0.87320455],\n",
              "       [ 1.16448314, -0.17832288,  0.46327984, -2.16455272,  2.36935094],\n",
              "       [-1.32684589, -0.2542662 , -1.66305009, -1.45925127, -0.02678967],\n",
              "       [-1.43105424,  0.83781033,  0.27625084, -1.24697404, -0.57569581],\n",
              "       [-0.74667015, -0.26831859, -1.21310746, -1.61745954, -0.08687564]])"
            ]
          },
          "metadata": {},
          "execution_count": 38
        }
      ],
      "source": [
        "ran_nor=np.random.randn(25).reshape(5,5)\n",
        "ran_nor"
      ]
    },
    {
      "cell_type": "markdown",
      "metadata": {
        "id": "yM_uyjxGeB_N"
      },
      "source": [
        "#### 12. Create 3x4 shaped array with random int numbers between 20 and 50 with numpy"
      ]
    },
    {
      "cell_type": "code",
      "execution_count": 40,
      "metadata": {
        "colab": {
          "base_uri": "https://localhost:8080/"
        },
        "id": "jAx4Cg7XeB_N",
        "outputId": "ea59af77-f0c7-4bb9-886f-99b541877d36"
      },
      "outputs": [
        {
          "output_type": "execute_result",
          "data": {
            "text/plain": [
              "array([[37, 21, 29, 47],\n",
              "       [46, 38, 41, 28],\n",
              "       [30, 22, 48, 37]])"
            ]
          },
          "metadata": {},
          "execution_count": 40
        }
      ],
      "source": [
        "ran_int=np.random.randint(20,50,12).reshape(3,4)\n",
        "ran_int"
      ]
    },
    {
      "cell_type": "markdown",
      "metadata": {
        "id": "kgavFKY_eB_N"
      },
      "source": [
        "#### 13. Reshape the array below with shape 6x8"
      ]
    },
    {
      "cell_type": "code",
      "execution_count": 44,
      "metadata": {
        "colab": {
          "base_uri": "https://localhost:8080/"
        },
        "id": "MJxtj24LeB_N",
        "outputId": "37d9c0b5-a434-46df-f227-7d4beaa29dbe"
      },
      "outputs": [
        {
          "output_type": "execute_result",
          "data": {
            "text/plain": [
              "array([52, 48, 21, 29, 15, 35,  3, 29, 43, 48, 38,  8, 44,  2, 46, 27, 11,\n",
              "       29, 30, 26,  8, 49, 19,  2,  9, 38, 40, 36, 16, 41, 39, 17, 20, 42,\n",
              "       23, 35, 45, 18, 40,  9, 36, 37,  5, 17, 44, 36,  2, 52])"
            ]
          },
          "metadata": {},
          "execution_count": 44
        }
      ],
      "source": [
        "ranarr=([52, 48, 21, 29, 15, 35,  3, 29, 43, 48, 38,  8, 44,  2, 46, 27, 11,\n",
        "       29, 30, 26,  8, 49, 19,  2,  9, 38, 40, 36, 16, 41, 39, 17, 20, 42,\n",
        "       23, 35, 45, 18, 40,  9, 36, 37,  5, 17, 44, 36,  2, 52])\n",
        "ranarr=np.array(ranarr)\n",
        "ranarr"
      ]
    },
    {
      "cell_type": "code",
      "execution_count": 45,
      "metadata": {
        "colab": {
          "base_uri": "https://localhost:8080/"
        },
        "id": "P4LPx5gxeB_N",
        "outputId": "60ed9ac9-5ce4-405a-f5eb-c9fe8c86670b"
      },
      "outputs": [
        {
          "output_type": "execute_result",
          "data": {
            "text/plain": [
              "array([[52, 48, 21, 29, 15, 35,  3, 29],\n",
              "       [43, 48, 38,  8, 44,  2, 46, 27],\n",
              "       [11, 29, 30, 26,  8, 49, 19,  2],\n",
              "       [ 9, 38, 40, 36, 16, 41, 39, 17],\n",
              "       [20, 42, 23, 35, 45, 18, 40,  9],\n",
              "       [36, 37,  5, 17, 44, 36,  2, 52]])"
            ]
          },
          "metadata": {},
          "execution_count": 45
        }
      ],
      "source": [
        "renarr=np.reshape(ranarr,(6,8))\n",
        "renarr"
      ]
    },
    {
      "cell_type": "code",
      "execution_count": null,
      "metadata": {
        "id": "FlY1lZFMeB_O",
        "outputId": "38a65a5f-a73e-4ab0-daba-797336f9f5d6"
      },
      "outputs": [
        {
          "data": {
            "text/plain": [
              "array([[52, 48, 21, 29, 15, 35,  3, 29],\n",
              "       [43, 48, 38,  8, 44,  2, 46, 27],\n",
              "       [11, 29, 30, 26,  8, 49, 19,  2],\n",
              "       [ 9, 38, 40, 36, 16, 41, 39, 17],\n",
              "       [20, 42, 23, 35, 45, 18, 40,  9],\n",
              "       [36, 37,  5, 17, 44, 36,  2, 52]])"
            ]
          },
          "execution_count": 18,
          "metadata": {},
          "output_type": "execute_result"
        }
      ],
      "source": [
        ""
      ]
    },
    {
      "cell_type": "code",
      "execution_count": 47,
      "metadata": {
        "colab": {
          "base_uri": "https://localhost:8080/"
        },
        "id": "mAX4woGBeB_O",
        "outputId": "6da23543-e0c8-4112-f3d8-9136e7e32aaf"
      },
      "outputs": [
        {
          "output_type": "execute_result",
          "data": {
            "text/plain": [
              "array([[52, 48, 21, 29, 15, 35,  3, 29, 43, 48, 38,  8],\n",
              "       [44,  2, 46, 27, 11, 29, 30, 26,  8, 49, 19,  2],\n",
              "       [ 9, 38, 40, 36, 16, 41, 39, 17, 20, 42, 23, 35],\n",
              "       [45, 18, 40,  9, 36, 37,  5, 17, 44, 36,  2, 52]])"
            ]
          },
          "metadata": {},
          "execution_count": 47
        }
      ],
      "source": [
        "#reshape with -1\n",
        "renarr2=np.reshape(ranarr,(4,12))\n",
        "renarr2"
      ]
    },
    {
      "cell_type": "markdown",
      "metadata": {
        "id": "y7AzTD7NeB_O"
      },
      "source": [
        "## Numpy Indexing and Selection\n"
      ]
    },
    {
      "cell_type": "code",
      "execution_count": 48,
      "metadata": {
        "colab": {
          "base_uri": "https://localhost:8080/"
        },
        "id": "kWGOj13IeB_O",
        "outputId": "248428f2-a74f-4454-9642-ed80b4467fa1"
      },
      "outputs": [
        {
          "output_type": "execute_result",
          "data": {
            "text/plain": [
              "array([[ 1,  2,  3,  4],\n",
              "       [ 5,  6,  7,  8],\n",
              "       [ 9, 10, 11, 12],\n",
              "       [13, 14, 15, 16]])"
            ]
          },
          "metadata": {},
          "execution_count": 48
        }
      ],
      "source": [
        "#Create array below\n",
        "mat=np.arange(1,17).reshape(4,4)\n",
        "mat"
      ]
    },
    {
      "cell_type": "markdown",
      "metadata": {
        "id": "Vabbz4ceeB_P"
      },
      "source": [
        "#### 14. Write code that reproduces the output shown below.<br>"
      ]
    },
    {
      "cell_type": "code",
      "execution_count": 50,
      "metadata": {
        "colab": {
          "base_uri": "https://localhost:8080/"
        },
        "id": "-yxbW3RTeB_P",
        "outputId": "6ce6d51d-8558-40f4-f389-f74b427d2763"
      },
      "outputs": [
        {
          "output_type": "execute_result",
          "data": {
            "text/plain": [
              "array([[ 6,  7],\n",
              "       [10, 11]])"
            ]
          },
          "metadata": {},
          "execution_count": 50
        }
      ],
      "source": [
        "mat[1:3,1:3]"
      ]
    },
    {
      "cell_type": "markdown",
      "metadata": {
        "id": "UBuuRNZBeB_P"
      },
      "source": [
        "#### 15. Get the first column of the array."
      ]
    },
    {
      "cell_type": "code",
      "execution_count": 53,
      "metadata": {
        "colab": {
          "base_uri": "https://localhost:8080/"
        },
        "id": "3eJq-057eB_P",
        "outputId": "2a44883f-3083-45ca-cd89-5ab5e779cd3c"
      },
      "outputs": [
        {
          "output_type": "execute_result",
          "data": {
            "text/plain": [
              "array([ 1,  5,  9, 13])"
            ]
          },
          "metadata": {},
          "execution_count": 53
        }
      ],
      "source": [
        "mat[0:,0]"
      ]
    },
    {
      "cell_type": "markdown",
      "metadata": {
        "id": "OS6Amtp1eB_P"
      },
      "source": [
        "#### 16. Get the values in 2nd row for every 2 step."
      ]
    },
    {
      "cell_type": "code",
      "execution_count": 55,
      "metadata": {
        "colab": {
          "base_uri": "https://localhost:8080/"
        },
        "id": "egq7VNp4eB_P",
        "outputId": "78a75046-1628-4499-c7c4-bab71fdf24f2"
      },
      "outputs": [
        {
          "output_type": "execute_result",
          "data": {
            "text/plain": [
              "array([5, 7])"
            ]
          },
          "metadata": {},
          "execution_count": 55
        }
      ],
      "source": [
        "mat[1,0::2]"
      ]
    },
    {
      "cell_type": "markdown",
      "metadata": {
        "id": "VDbTxTszeB_P"
      },
      "source": [
        "#### 17.Assign 77 to every cell in 3rd column."
      ]
    },
    {
      "cell_type": "code",
      "execution_count": null,
      "metadata": {
        "id": "9d6E5YxdeB_Q",
        "outputId": "c79fd927-a70b-4262-ccf2-0d70551a5b87"
      },
      "outputs": [
        {
          "data": {
            "text/plain": [
              "array([[ 1,  2,  3,  4],\n",
              "       [ 5,  6,  7,  8],\n",
              "       [ 9, 10, 11, 12],\n",
              "       [13, 14, 15, 16]])"
            ]
          },
          "execution_count": 28,
          "metadata": {},
          "output_type": "execute_result"
        }
      ],
      "source": [
        "mat"
      ]
    },
    {
      "cell_type": "code",
      "execution_count": 60,
      "metadata": {
        "colab": {
          "base_uri": "https://localhost:8080/"
        },
        "id": "_df9NXqoeB_Q",
        "outputId": "64c982b9-7d60-45dd-bafd-7d23f12056fe"
      },
      "outputs": [
        {
          "output_type": "execute_result",
          "data": {
            "text/plain": [
              "array([[ 1,  2, 77,  4],\n",
              "       [ 5,  6, 77,  8],\n",
              "       [ 9, 10, 77, 12],\n",
              "       [13, 14, 77, 16]])"
            ]
          },
          "metadata": {},
          "execution_count": 60
        }
      ],
      "source": [
        "\n",
        "mat[0:,2]=77\n",
        "mat"
      ]
    },
    {
      "cell_type": "markdown",
      "metadata": {
        "id": "TLBsqYo2eB_Q"
      },
      "source": [
        "#### 18. Take 2nd row 1st column, 4th row 2nd column."
      ]
    },
    {
      "cell_type": "code",
      "execution_count": 66,
      "metadata": {
        "scrolled": true,
        "colab": {
          "base_uri": "https://localhost:8080/"
        },
        "id": "d6lTQWgQeB_Q",
        "outputId": "b51cf179-ba32-4f92-b28d-63f50edb67e7"
      },
      "outputs": [
        {
          "output_type": "execute_result",
          "data": {
            "text/plain": [
              "array([16,  6])"
            ]
          },
          "metadata": {},
          "execution_count": 66
        }
      ],
      "source": [
        "mat[[3,1],[3,1]]"
      ]
    },
    {
      "cell_type": "markdown",
      "metadata": {
        "id": "Tj1i5COieB_Q"
      },
      "source": [
        "#### 19. Take between 2nd and last row with step 2 and between 1 and last column with step 2."
      ]
    },
    {
      "cell_type": "code",
      "execution_count": 67,
      "metadata": {
        "colab": {
          "base_uri": "https://localhost:8080/"
        },
        "id": "izLKl4_veB_R",
        "outputId": "16961e08-7319-43e1-9572-13b54252bcfc"
      },
      "outputs": [
        {
          "output_type": "execute_result",
          "data": {
            "text/plain": [
              "array([[6]])"
            ]
          },
          "metadata": {},
          "execution_count": 67
        }
      ],
      "source": [
        "mat[1:3:2,1:3:2]"
      ]
    },
    {
      "cell_type": "markdown",
      "metadata": {
        "id": "5E_bphyNeB_R"
      },
      "source": [
        "## NumPy Operations"
      ]
    },
    {
      "cell_type": "markdown",
      "metadata": {
        "id": "p_VShL7PeB_R"
      },
      "source": [
        "#### 20. Get the sum of values smaller than 10 and values bigger than 12 from array above "
      ]
    },
    {
      "cell_type": "code",
      "execution_count": 68,
      "metadata": {
        "colab": {
          "base_uri": "https://localhost:8080/"
        },
        "id": "ChR9pH7LeB_R",
        "outputId": "cbabc713-760e-49e4-fd77-8f5cc4840043"
      },
      "outputs": [
        {
          "output_type": "execute_result",
          "data": {
            "text/plain": [
              "array([[ 1,  2, 77,  4],\n",
              "       [ 5,  6, 77,  8],\n",
              "       [ 9, 10, 77, 12],\n",
              "       [13, 14, 77, 16]])"
            ]
          },
          "metadata": {},
          "execution_count": 68
        }
      ],
      "source": [
        "mat"
      ]
    },
    {
      "cell_type": "code",
      "execution_count": 75,
      "metadata": {
        "colab": {
          "base_uri": "https://localhost:8080/"
        },
        "id": "LlOF7eQ3eB_R",
        "outputId": "93e8e1ff-cf45-4c99-9072-7d5e06e5b2c2"
      },
      "outputs": [
        {
          "output_type": "execute_result",
          "data": {
            "text/plain": [
              "array([1, 2, 4, 5, 6, 8, 9])"
            ]
          },
          "metadata": {},
          "execution_count": 75
        }
      ],
      "source": [
        "arr1=mat[mat<10]\n",
        "arr1"
      ]
    },
    {
      "cell_type": "code",
      "execution_count": 76,
      "metadata": {
        "colab": {
          "base_uri": "https://localhost:8080/"
        },
        "id": "ua-tlZoXeB_R",
        "outputId": "2959c80c-700a-47f6-b35f-a907a3ad71b5"
      },
      "outputs": [
        {
          "output_type": "execute_result",
          "data": {
            "text/plain": [
              "array([77, 77, 77, 13, 14, 77, 16])"
            ]
          },
          "metadata": {},
          "execution_count": 76
        }
      ],
      "source": [
        "arr2=mat[mat>12]\n",
        "arr2"
      ]
    },
    {
      "cell_type": "code",
      "execution_count": 79,
      "metadata": {
        "colab": {
          "base_uri": "https://localhost:8080/"
        },
        "id": "oHln4S76eB_R",
        "outputId": "f1d529e6-dac3-414f-c367-ffb0bd9f3c18"
      },
      "outputs": [
        {
          "output_type": "execute_result",
          "data": {
            "text/plain": [
              "array([78, 79, 81, 18, 20, 85, 25])"
            ]
          },
          "metadata": {},
          "execution_count": 79
        }
      ],
      "source": [
        "arr3=arr1+arr2\n",
        "arr3"
      ]
    },
    {
      "cell_type": "markdown",
      "metadata": {
        "id": "sKS4vEwseB_R"
      },
      "source": [
        "#### 21. Get the standard deviation of the result above"
      ]
    },
    {
      "cell_type": "code",
      "execution_count": 82,
      "metadata": {
        "colab": {
          "base_uri": "https://localhost:8080/"
        },
        "id": "zMNgKFnLeB_R",
        "outputId": "79454434-bcdc-4d2a-b8fe-a40334adfb95"
      },
      "outputs": [
        {
          "output_type": "execute_result",
          "data": {
            "text/plain": [
              "29.700546274093877"
            ]
          },
          "metadata": {},
          "execution_count": 82
        }
      ],
      "source": [
        "np.std(arr3)"
      ]
    },
    {
      "cell_type": "markdown",
      "metadata": {
        "id": "oktV-A4NeB_R"
      },
      "source": [
        "#### 22. Get the sum of second column from array above"
      ]
    },
    {
      "cell_type": "code",
      "execution_count": 83,
      "metadata": {
        "colab": {
          "base_uri": "https://localhost:8080/"
        },
        "id": "iyK5tneGeB_S",
        "outputId": "513cdb10-ee59-4784-ce5a-f611151476cd"
      },
      "outputs": [
        {
          "output_type": "execute_result",
          "data": {
            "text/plain": [
              "array([[ 1,  2, 77,  4],\n",
              "       [ 5,  6, 77,  8],\n",
              "       [ 9, 10, 77, 12],\n",
              "       [13, 14, 77, 16]])"
            ]
          },
          "metadata": {},
          "execution_count": 83
        }
      ],
      "source": [
        "#print array here\n",
        "mat"
      ]
    },
    {
      "cell_type": "code",
      "execution_count": 84,
      "metadata": {
        "colab": {
          "base_uri": "https://localhost:8080/"
        },
        "id": "oj14-ccTeB_S",
        "outputId": "6e3e6e3c-7417-403f-8841-d4b31a50db47"
      },
      "outputs": [
        {
          "output_type": "execute_result",
          "data": {
            "text/plain": [
              "32"
            ]
          },
          "metadata": {},
          "execution_count": 84
        }
      ],
      "source": [
        "sum(mat[0:,1])"
      ]
    },
    {
      "cell_type": "markdown",
      "metadata": {
        "id": "gayPKeNheB_S"
      },
      "source": [
        "#### 23. Get the median,mean and std of 3rd row from array above"
      ]
    },
    {
      "cell_type": "code",
      "execution_count": 94,
      "metadata": {
        "colab": {
          "base_uri": "https://localhost:8080/"
        },
        "id": "ZHXXlD1qeB_S",
        "outputId": "3f890c23-2b95-4507-d8d6-21ce3b54f219"
      },
      "outputs": [
        {
          "output_type": "execute_result",
          "data": {
            "text/plain": [
              "array([[ 1,  2,  3,  4],\n",
              "       [ 5,  6,  7,  8],\n",
              "       [ 9, 10, 11, 12],\n",
              "       [13, 14, 15, 16]])"
            ]
          },
          "metadata": {},
          "execution_count": 94
        }
      ],
      "source": [
        "mat=np.arange(1,17).reshape(4,4)\n",
        "mat"
      ]
    },
    {
      "cell_type": "code",
      "execution_count": 95,
      "metadata": {
        "colab": {
          "base_uri": "https://localhost:8080/"
        },
        "id": "N64-DlOOeB_S",
        "outputId": "d5417f02-2808-4015-c782-5e9489d0cfd5"
      },
      "outputs": [
        {
          "output_type": "execute_result",
          "data": {
            "text/plain": [
              "array([ 9, 10, 11, 12])"
            ]
          },
          "metadata": {},
          "execution_count": 95
        }
      ],
      "source": [
        "mat[2]"
      ]
    },
    {
      "cell_type": "code",
      "execution_count": 96,
      "metadata": {
        "colab": {
          "base_uri": "https://localhost:8080/"
        },
        "id": "0qd_8wKUeB_S",
        "outputId": "00829624-571f-409f-e26d-b97ef040caa9"
      },
      "outputs": [
        {
          "output_type": "execute_result",
          "data": {
            "text/plain": [
              "10.5"
            ]
          },
          "metadata": {},
          "execution_count": 96
        }
      ],
      "source": [
        "np.median(mat[2])\n"
      ]
    },
    {
      "cell_type": "code",
      "execution_count": 97,
      "metadata": {
        "colab": {
          "base_uri": "https://localhost:8080/"
        },
        "id": "aSV8kDjqeB_S",
        "outputId": "075e8f36-a56e-4db3-9b9a-1ca80ab75db1"
      },
      "outputs": [
        {
          "output_type": "execute_result",
          "data": {
            "text/plain": [
              "10.5"
            ]
          },
          "metadata": {},
          "execution_count": 97
        }
      ],
      "source": [
        "np.mean(mat[2])"
      ]
    },
    {
      "cell_type": "code",
      "execution_count": 98,
      "metadata": {
        "colab": {
          "base_uri": "https://localhost:8080/"
        },
        "id": "zyQWQ9mjeB_S",
        "outputId": "313b3c10-4766-43ef-8dcc-400ab39c315d"
      },
      "outputs": [
        {
          "output_type": "execute_result",
          "data": {
            "text/plain": [
              "1.118033988749895"
            ]
          },
          "metadata": {},
          "execution_count": 98
        }
      ],
      "source": [
        "np.std(mat[2])\n"
      ]
    },
    {
      "cell_type": "markdown",
      "metadata": {
        "collapsed": true,
        "id": "ldQumxobeB_T"
      },
      "source": [
        "# Pandas Section"
      ]
    },
    {
      "cell_type": "code",
      "execution_count": 99,
      "metadata": {
        "id": "4rNKgMaBeB_T"
      },
      "outputs": [],
      "source": [
        "import pandas as pd"
      ]
    },
    {
      "cell_type": "markdown",
      "metadata": {
        "id": "qEgLxeodeB_T"
      },
      "source": [
        "**Read Salaries.csv take a look at first 5 rows, df info and df statistical measurements**"
      ]
    },
    {
      "cell_type": "code",
      "execution_count": 106,
      "metadata": {
        "colab": {
          "base_uri": "https://localhost:8080/",
          "height": 400
        },
        "id": "ifbE7hRKeB_T",
        "outputId": "b03fe604-3801-40d8-9d3e-baae8ec64f83"
      },
      "outputs": [
        {
          "output_type": "error",
          "ename": "FileNotFoundError",
          "evalue": "ignored",
          "traceback": [
            "\u001b[0;31m---------------------------------------------------------------------------\u001b[0m",
            "\u001b[0;31mFileNotFoundError\u001b[0m                         Traceback (most recent call last)",
            "\u001b[0;32m<ipython-input-106-847ca6269503>\u001b[0m in \u001b[0;36m<module>\u001b[0;34m()\u001b[0m\n\u001b[0;32m----> 1\u001b[0;31m \u001b[0msal\u001b[0m\u001b[0;34m=\u001b[0m\u001b[0mpd\u001b[0m\u001b[0;34m.\u001b[0m\u001b[0mread_csv\u001b[0m\u001b[0;34m(\u001b[0m\u001b[0;34m'Salaries.csv'\u001b[0m\u001b[0;34m)\u001b[0m\u001b[0;34m\u001b[0m\u001b[0;34m\u001b[0m\u001b[0m\n\u001b[0m",
            "\u001b[0;32m/usr/local/lib/python3.7/dist-packages/pandas/io/parsers.py\u001b[0m in \u001b[0;36mread_csv\u001b[0;34m(filepath_or_buffer, sep, delimiter, header, names, index_col, usecols, squeeze, prefix, mangle_dupe_cols, dtype, engine, converters, true_values, false_values, skipinitialspace, skiprows, skipfooter, nrows, na_values, keep_default_na, na_filter, verbose, skip_blank_lines, parse_dates, infer_datetime_format, keep_date_col, date_parser, dayfirst, cache_dates, iterator, chunksize, compression, thousands, decimal, lineterminator, quotechar, quoting, doublequote, escapechar, comment, encoding, dialect, error_bad_lines, warn_bad_lines, delim_whitespace, low_memory, memory_map, float_precision)\u001b[0m\n\u001b[1;32m    686\u001b[0m     )\n\u001b[1;32m    687\u001b[0m \u001b[0;34m\u001b[0m\u001b[0m\n\u001b[0;32m--> 688\u001b[0;31m     \u001b[0;32mreturn\u001b[0m \u001b[0m_read\u001b[0m\u001b[0;34m(\u001b[0m\u001b[0mfilepath_or_buffer\u001b[0m\u001b[0;34m,\u001b[0m \u001b[0mkwds\u001b[0m\u001b[0;34m)\u001b[0m\u001b[0;34m\u001b[0m\u001b[0;34m\u001b[0m\u001b[0m\n\u001b[0m\u001b[1;32m    689\u001b[0m \u001b[0;34m\u001b[0m\u001b[0m\n\u001b[1;32m    690\u001b[0m \u001b[0;34m\u001b[0m\u001b[0m\n",
            "\u001b[0;32m/usr/local/lib/python3.7/dist-packages/pandas/io/parsers.py\u001b[0m in \u001b[0;36m_read\u001b[0;34m(filepath_or_buffer, kwds)\u001b[0m\n\u001b[1;32m    452\u001b[0m \u001b[0;34m\u001b[0m\u001b[0m\n\u001b[1;32m    453\u001b[0m     \u001b[0;31m# Create the parser.\u001b[0m\u001b[0;34m\u001b[0m\u001b[0;34m\u001b[0m\u001b[0;34m\u001b[0m\u001b[0m\n\u001b[0;32m--> 454\u001b[0;31m     \u001b[0mparser\u001b[0m \u001b[0;34m=\u001b[0m \u001b[0mTextFileReader\u001b[0m\u001b[0;34m(\u001b[0m\u001b[0mfp_or_buf\u001b[0m\u001b[0;34m,\u001b[0m \u001b[0;34m**\u001b[0m\u001b[0mkwds\u001b[0m\u001b[0;34m)\u001b[0m\u001b[0;34m\u001b[0m\u001b[0;34m\u001b[0m\u001b[0m\n\u001b[0m\u001b[1;32m    455\u001b[0m \u001b[0;34m\u001b[0m\u001b[0m\n\u001b[1;32m    456\u001b[0m     \u001b[0;32mif\u001b[0m \u001b[0mchunksize\u001b[0m \u001b[0;32mor\u001b[0m \u001b[0miterator\u001b[0m\u001b[0;34m:\u001b[0m\u001b[0;34m\u001b[0m\u001b[0;34m\u001b[0m\u001b[0m\n",
            "\u001b[0;32m/usr/local/lib/python3.7/dist-packages/pandas/io/parsers.py\u001b[0m in \u001b[0;36m__init__\u001b[0;34m(self, f, engine, **kwds)\u001b[0m\n\u001b[1;32m    946\u001b[0m             \u001b[0mself\u001b[0m\u001b[0;34m.\u001b[0m\u001b[0moptions\u001b[0m\u001b[0;34m[\u001b[0m\u001b[0;34m\"has_index_names\"\u001b[0m\u001b[0;34m]\u001b[0m \u001b[0;34m=\u001b[0m \u001b[0mkwds\u001b[0m\u001b[0;34m[\u001b[0m\u001b[0;34m\"has_index_names\"\u001b[0m\u001b[0;34m]\u001b[0m\u001b[0;34m\u001b[0m\u001b[0;34m\u001b[0m\u001b[0m\n\u001b[1;32m    947\u001b[0m \u001b[0;34m\u001b[0m\u001b[0m\n\u001b[0;32m--> 948\u001b[0;31m         \u001b[0mself\u001b[0m\u001b[0;34m.\u001b[0m\u001b[0m_make_engine\u001b[0m\u001b[0;34m(\u001b[0m\u001b[0mself\u001b[0m\u001b[0;34m.\u001b[0m\u001b[0mengine\u001b[0m\u001b[0;34m)\u001b[0m\u001b[0;34m\u001b[0m\u001b[0;34m\u001b[0m\u001b[0m\n\u001b[0m\u001b[1;32m    949\u001b[0m \u001b[0;34m\u001b[0m\u001b[0m\n\u001b[1;32m    950\u001b[0m     \u001b[0;32mdef\u001b[0m \u001b[0mclose\u001b[0m\u001b[0;34m(\u001b[0m\u001b[0mself\u001b[0m\u001b[0;34m)\u001b[0m\u001b[0;34m:\u001b[0m\u001b[0;34m\u001b[0m\u001b[0;34m\u001b[0m\u001b[0m\n",
            "\u001b[0;32m/usr/local/lib/python3.7/dist-packages/pandas/io/parsers.py\u001b[0m in \u001b[0;36m_make_engine\u001b[0;34m(self, engine)\u001b[0m\n\u001b[1;32m   1178\u001b[0m     \u001b[0;32mdef\u001b[0m \u001b[0m_make_engine\u001b[0m\u001b[0;34m(\u001b[0m\u001b[0mself\u001b[0m\u001b[0;34m,\u001b[0m \u001b[0mengine\u001b[0m\u001b[0;34m=\u001b[0m\u001b[0;34m\"c\"\u001b[0m\u001b[0;34m)\u001b[0m\u001b[0;34m:\u001b[0m\u001b[0;34m\u001b[0m\u001b[0;34m\u001b[0m\u001b[0m\n\u001b[1;32m   1179\u001b[0m         \u001b[0;32mif\u001b[0m \u001b[0mengine\u001b[0m \u001b[0;34m==\u001b[0m \u001b[0;34m\"c\"\u001b[0m\u001b[0;34m:\u001b[0m\u001b[0;34m\u001b[0m\u001b[0;34m\u001b[0m\u001b[0m\n\u001b[0;32m-> 1180\u001b[0;31m             \u001b[0mself\u001b[0m\u001b[0;34m.\u001b[0m\u001b[0m_engine\u001b[0m \u001b[0;34m=\u001b[0m \u001b[0mCParserWrapper\u001b[0m\u001b[0;34m(\u001b[0m\u001b[0mself\u001b[0m\u001b[0;34m.\u001b[0m\u001b[0mf\u001b[0m\u001b[0;34m,\u001b[0m \u001b[0;34m**\u001b[0m\u001b[0mself\u001b[0m\u001b[0;34m.\u001b[0m\u001b[0moptions\u001b[0m\u001b[0;34m)\u001b[0m\u001b[0;34m\u001b[0m\u001b[0;34m\u001b[0m\u001b[0m\n\u001b[0m\u001b[1;32m   1181\u001b[0m         \u001b[0;32melse\u001b[0m\u001b[0;34m:\u001b[0m\u001b[0;34m\u001b[0m\u001b[0;34m\u001b[0m\u001b[0m\n\u001b[1;32m   1182\u001b[0m             \u001b[0;32mif\u001b[0m \u001b[0mengine\u001b[0m \u001b[0;34m==\u001b[0m \u001b[0;34m\"python\"\u001b[0m\u001b[0;34m:\u001b[0m\u001b[0;34m\u001b[0m\u001b[0;34m\u001b[0m\u001b[0m\n",
            "\u001b[0;32m/usr/local/lib/python3.7/dist-packages/pandas/io/parsers.py\u001b[0m in \u001b[0;36m__init__\u001b[0;34m(self, src, **kwds)\u001b[0m\n\u001b[1;32m   2008\u001b[0m         \u001b[0mkwds\u001b[0m\u001b[0;34m[\u001b[0m\u001b[0;34m\"usecols\"\u001b[0m\u001b[0;34m]\u001b[0m \u001b[0;34m=\u001b[0m \u001b[0mself\u001b[0m\u001b[0;34m.\u001b[0m\u001b[0musecols\u001b[0m\u001b[0;34m\u001b[0m\u001b[0;34m\u001b[0m\u001b[0m\n\u001b[1;32m   2009\u001b[0m \u001b[0;34m\u001b[0m\u001b[0m\n\u001b[0;32m-> 2010\u001b[0;31m         \u001b[0mself\u001b[0m\u001b[0;34m.\u001b[0m\u001b[0m_reader\u001b[0m \u001b[0;34m=\u001b[0m \u001b[0mparsers\u001b[0m\u001b[0;34m.\u001b[0m\u001b[0mTextReader\u001b[0m\u001b[0;34m(\u001b[0m\u001b[0msrc\u001b[0m\u001b[0;34m,\u001b[0m \u001b[0;34m**\u001b[0m\u001b[0mkwds\u001b[0m\u001b[0;34m)\u001b[0m\u001b[0;34m\u001b[0m\u001b[0;34m\u001b[0m\u001b[0m\n\u001b[0m\u001b[1;32m   2011\u001b[0m         \u001b[0mself\u001b[0m\u001b[0;34m.\u001b[0m\u001b[0munnamed_cols\u001b[0m \u001b[0;34m=\u001b[0m \u001b[0mself\u001b[0m\u001b[0;34m.\u001b[0m\u001b[0m_reader\u001b[0m\u001b[0;34m.\u001b[0m\u001b[0munnamed_cols\u001b[0m\u001b[0;34m\u001b[0m\u001b[0;34m\u001b[0m\u001b[0m\n\u001b[1;32m   2012\u001b[0m \u001b[0;34m\u001b[0m\u001b[0m\n",
            "\u001b[0;32mpandas/_libs/parsers.pyx\u001b[0m in \u001b[0;36mpandas._libs.parsers.TextReader.__cinit__\u001b[0;34m()\u001b[0m\n",
            "\u001b[0;32mpandas/_libs/parsers.pyx\u001b[0m in \u001b[0;36mpandas._libs.parsers.TextReader._setup_parser_source\u001b[0;34m()\u001b[0m\n",
            "\u001b[0;31mFileNotFoundError\u001b[0m: [Errno 2] No such file or directory: 'Salaries.csv'"
          ]
        }
      ],
      "source": [
        "sal=pd.read_csv('Salaries.csv')"
      ]
    },
    {
      "cell_type": "code",
      "execution_count": 105,
      "metadata": {
        "id": "leAfTTSfeB_T"
      },
      "outputs": [],
      "source": [
        ""
      ]
    },
    {
      "cell_type": "code",
      "execution_count": null,
      "metadata": {
        "id": "ImKT1DW6eB_T",
        "outputId": "012b0173-df85-454c-8f96-79552ee925ca"
      },
      "outputs": [
        {
          "name": "stdout",
          "output_type": "stream",
          "text": [
            "<class 'pandas.core.frame.DataFrame'>\n",
            "RangeIndex: 148654 entries, 0 to 148653\n",
            "Data columns (total 13 columns):\n",
            " #   Column            Non-Null Count   Dtype  \n",
            "---  ------            --------------   -----  \n",
            " 0   Id                148654 non-null  int64  \n",
            " 1   EmployeeName      148654 non-null  object \n",
            " 2   JobTitle          148654 non-null  object \n",
            " 3   BasePay           148045 non-null  float64\n",
            " 4   OvertimePay       148650 non-null  float64\n",
            " 5   OtherPay          148650 non-null  float64\n",
            " 6   Benefits          112491 non-null  float64\n",
            " 7   TotalPay          148654 non-null  float64\n",
            " 8   TotalPayBenefits  148654 non-null  float64\n",
            " 9   Year              148654 non-null  int64  \n",
            " 10  Notes             0 non-null       float64\n",
            " 11  Agency            148654 non-null  object \n",
            " 12  Status            0 non-null       float64\n",
            "dtypes: float64(8), int64(2), object(3)\n",
            "memory usage: 14.7+ MB\n"
          ]
        }
      ],
      "source": [
        ""
      ]
    },
    {
      "cell_type": "code",
      "execution_count": 105,
      "metadata": {
        "id": "8HnNSt1JeB_T"
      },
      "outputs": [],
      "source": [
        ""
      ]
    },
    {
      "cell_type": "markdown",
      "metadata": {
        "id": "s2dxnXSHeB_T"
      },
      "source": [
        "**How many different year value are there**"
      ]
    },
    {
      "cell_type": "code",
      "execution_count": null,
      "metadata": {
        "id": "OVBs1s1ReB_T",
        "outputId": "c3edd013-c43a-48d1-b691-0eac67c4ea7f"
      },
      "outputs": [
        {
          "data": {
            "text/plain": [
              "2014    38123\n",
              "2013    37606\n",
              "2012    36766\n",
              "2011    36159\n",
              "Name: Year, dtype: int64"
            ]
          },
          "execution_count": 55,
          "metadata": {},
          "output_type": "execute_result"
        }
      ],
      "source": [
        ""
      ]
    },
    {
      "cell_type": "markdown",
      "metadata": {
        "id": "mh_sp6LDeB_U"
      },
      "source": [
        "**Print out max and avg Totalpay**"
      ]
    },
    {
      "cell_type": "code",
      "execution_count": null,
      "metadata": {
        "id": "P2G9eSAXeB_U",
        "outputId": "3d39adde-4cf4-4425-b1ee-08018449f284"
      },
      "outputs": [
        {
          "data": {
            "text/plain": [
              "567595.43"
            ]
          },
          "execution_count": 56,
          "metadata": {},
          "output_type": "execute_result"
        }
      ],
      "source": [
        "#max\n"
      ]
    },
    {
      "cell_type": "code",
      "execution_count": null,
      "metadata": {
        "id": "ED_J4hrjeB_U",
        "outputId": "d7c64653-2b52-472b-8b21-96978ae82119"
      },
      "outputs": [
        {
          "data": {
            "text/plain": [
              "74768.321971703"
            ]
          },
          "execution_count": 57,
          "metadata": {},
          "output_type": "execute_result"
        }
      ],
      "source": [
        "#avg\n"
      ]
    },
    {
      "cell_type": "markdown",
      "metadata": {
        "id": "lxaEw9pkeB_U"
      },
      "source": [
        "**How many records are there which have TotalPay bigger than avg TotalPay**"
      ]
    },
    {
      "cell_type": "code",
      "execution_count": null,
      "metadata": {
        "id": "m8xlUVD2eB_U",
        "outputId": "f03761eb-44e2-4528-d2d7-b0e08f076937"
      },
      "outputs": [
        {
          "data": {
            "text/plain": [
              "69489"
            ]
          },
          "execution_count": 59,
          "metadata": {},
          "output_type": "execute_result"
        }
      ],
      "source": [
        ""
      ]
    },
    {
      "cell_type": "markdown",
      "metadata": {
        "id": "z7Ofk-OseB_U"
      },
      "source": [
        "**How much does ALBERT PARDINI make (including benefits)?**"
      ]
    },
    {
      "cell_type": "code",
      "execution_count": null,
      "metadata": {
        "id": "6IQFbRbEeB_U",
        "outputId": "e330d747-1d19-40ff-b698-f0099d17cd8c"
      },
      "outputs": [
        {
          "data": {
            "text/plain": [
              "2    335279.91\n",
              "Name: TotalPayBenefits, dtype: float64"
            ]
          },
          "execution_count": 61,
          "metadata": {},
          "output_type": "execute_result"
        }
      ],
      "source": [
        ""
      ]
    },
    {
      "cell_type": "markdown",
      "metadata": {
        "id": "YqBoAJwveB_U"
      },
      "source": [
        "**Who is lowest paid person**"
      ]
    },
    {
      "cell_type": "code",
      "execution_count": null,
      "metadata": {
        "id": "YPRuahQBeB_U",
        "outputId": "963eca53-29c3-4341-c448-ca278d2d1d6f"
      },
      "outputs": [
        {
          "data": {
            "text/plain": [
              "148653    Joe Lopez\n",
              "Name: EmployeeName, dtype: object"
            ]
          },
          "execution_count": 63,
          "metadata": {},
          "output_type": "execute_result"
        }
      ],
      "source": [
        ""
      ]
    },
    {
      "cell_type": "markdown",
      "metadata": {
        "id": "v36kj9GBeB_U"
      },
      "source": [
        "**What are the unique Jobs in dataset?**"
      ]
    },
    {
      "cell_type": "code",
      "execution_count": null,
      "metadata": {
        "id": "nGiwHJHWeB_V",
        "outputId": "4a424769-a1ed-49ef-c925-70b314d406eb"
      },
      "outputs": [
        {
          "data": {
            "text/plain": [
              "array(['GENERAL MANAGER-METROPOLITAN TRANSIT AUTHORITY',\n",
              "       'CAPTAIN III (POLICE DEPARTMENT)',\n",
              "       'WIRE ROPE CABLE MAINTENANCE MECHANIC', ..., 'Conversion',\n",
              "       'Cashier 3', 'Not provided'], dtype=object)"
            ]
          },
          "execution_count": 64,
          "metadata": {},
          "output_type": "execute_result"
        }
      ],
      "source": [
        ""
      ]
    },
    {
      "cell_type": "markdown",
      "metadata": {
        "id": "7McPeh_geB_V"
      },
      "source": [
        "**List 3 least common Jobs**"
      ]
    },
    {
      "cell_type": "code",
      "execution_count": null,
      "metadata": {
        "id": "xbhwwUUXeB_V",
        "outputId": "818f755a-70bc-4c46-fbeb-50c4d3231727"
      },
      "outputs": [
        {
          "data": {
            "text/plain": [
              "COURT COMPUTER FACILITIES COORDINATOR             1\n",
              "AUTOMOTIVE BODY AND FENDER WORKER SUPERVISOR I    1\n",
              "VICTIM & WITNESS TECHNICIAN                       1\n",
              "Name: JobTitle, dtype: int64"
            ]
          },
          "execution_count": 6,
          "metadata": {},
          "output_type": "execute_result"
        }
      ],
      "source": [
        ""
      ]
    },
    {
      "cell_type": "markdown",
      "metadata": {
        "id": "YzvaO183eB_V"
      },
      "source": [
        "**How many people earned more than avg in 2012**"
      ]
    },
    {
      "cell_type": "code",
      "execution_count": null,
      "metadata": {
        "id": "p3aSoxQteB_V",
        "outputId": "ecbc7877-7bae-4057-b6e7-de959c79c8bc"
      },
      "outputs": [
        {
          "data": {
            "text/plain": [
              "20366"
            ]
          },
          "execution_count": 69,
          "metadata": {},
          "output_type": "execute_result"
        }
      ],
      "source": [
        ""
      ]
    },
    {
      "cell_type": "markdown",
      "metadata": {
        "id": "wvrxkqwpeB_V"
      },
      "source": [
        "**How many people have the word Manager in their job title?**"
      ]
    },
    {
      "cell_type": "code",
      "execution_count": null,
      "metadata": {
        "id": "83tQmTVNeB_V",
        "outputId": "983323c2-8fe8-4e22-ec19-7d1c3f49dfae"
      },
      "outputs": [
        {
          "data": {
            "text/plain": [
              "4110"
            ]
          },
          "execution_count": 71,
          "metadata": {},
          "output_type": "execute_result"
        }
      ],
      "source": [
        "#use apply function here\n"
      ]
    },
    {
      "cell_type": "markdown",
      "metadata": {
        "id": "fXh4ThJ5eB_V"
      },
      "source": [
        "**Take Id,EmployeeName,JobTitle,TotalPay and TotalPayBenefits columns with iloc and assign it as sal_new dataframe**"
      ]
    },
    {
      "cell_type": "code",
      "execution_count": 107,
      "metadata": {
        "colab": {
          "base_uri": "https://localhost:8080/",
          "height": 173
        },
        "id": "mJfcAjB_eB_V",
        "outputId": "6b9f0fe3-5043-45da-a0b4-1a621b23ed07"
      },
      "outputs": [
        {
          "output_type": "error",
          "ename": "NameError",
          "evalue": "ignored",
          "traceback": [
            "\u001b[0;31m---------------------------------------------------------------------------\u001b[0m",
            "\u001b[0;31mNameError\u001b[0m                                 Traceback (most recent call last)",
            "\u001b[0;32m<ipython-input-107-d42ef9cdb352>\u001b[0m in \u001b[0;36m<module>\u001b[0;34m()\u001b[0m\n\u001b[0;32m----> 1\u001b[0;31m \u001b[0msal\u001b[0m\u001b[0;34m.\u001b[0m\u001b[0mhead\u001b[0m\u001b[0;34m(\u001b[0m\u001b[0;34m)\u001b[0m\u001b[0;34m\u001b[0m\u001b[0;34m\u001b[0m\u001b[0m\n\u001b[0m",
            "\u001b[0;31mNameError\u001b[0m: name 'sal' is not defined"
          ]
        }
      ],
      "source": [
        "sal.head()"
      ]
    },
    {
      "cell_type": "code",
      "execution_count": 108,
      "metadata": {
        "colab": {
          "base_uri": "https://localhost:8080/",
          "height": 136
        },
        "id": "D_9mlf3feB_W",
        "outputId": "1f0d03c7-ac02-43a1-96ef-14a36132baa6"
      },
      "outputs": [
        {
          "output_type": "error",
          "ename": "SyntaxError",
          "evalue": "ignored",
          "traceback": [
            "\u001b[0;36m  File \u001b[0;32m\"<ipython-input-108-0b84aaaf23b2>\"\u001b[0;36m, line \u001b[0;32m1\u001b[0m\n\u001b[0;31m    sal_new=\u001b[0m\n\u001b[0m            ^\u001b[0m\n\u001b[0;31mSyntaxError\u001b[0m\u001b[0;31m:\u001b[0m invalid syntax\n"
          ]
        }
      ],
      "source": [
        "sal_new=\n",
        "sal_new"
      ]
    },
    {
      "cell_type": "markdown",
      "metadata": {
        "id": "pZ-VBIB7eB_W"
      },
      "source": [
        "**Take columns betweeen EmployeeName and TotalPayBenefits with loc and assign it o sal_new df**\n",
        " "
      ]
    },
    {
      "cell_type": "code",
      "execution_count": null,
      "metadata": {
        "id": "UurVRxr1eB_W",
        "outputId": "adb395c6-c27f-447f-a1a1-c800ed05824d"
      },
      "outputs": [
        {
          "data": {
            "text/html": [
              "<div>\n",
              "<style scoped>\n",
              "    .dataframe tbody tr th:only-of-type {\n",
              "        vertical-align: middle;\n",
              "    }\n",
              "\n",
              "    .dataframe tbody tr th {\n",
              "        vertical-align: top;\n",
              "    }\n",
              "\n",
              "    .dataframe thead th {\n",
              "        text-align: right;\n",
              "    }\n",
              "</style>\n",
              "<table border=\"1\" class=\"dataframe\">\n",
              "  <thead>\n",
              "    <tr style=\"text-align: right;\">\n",
              "      <th></th>\n",
              "      <th>EmployeeName</th>\n",
              "      <th>JobTitle</th>\n",
              "      <th>TotalPay</th>\n",
              "      <th>TotalPayBenefits</th>\n",
              "    </tr>\n",
              "  </thead>\n",
              "  <tbody>\n",
              "    <tr>\n",
              "      <th>0</th>\n",
              "      <td>NATHANIEL FORD</td>\n",
              "      <td>GENERAL MANAGER-METROPOLITAN TRANSIT AUTHORITY</td>\n",
              "      <td>567595.43</td>\n",
              "      <td>567595.43</td>\n",
              "    </tr>\n",
              "    <tr>\n",
              "      <th>1</th>\n",
              "      <td>GARY JIMENEZ</td>\n",
              "      <td>CAPTAIN III (POLICE DEPARTMENT)</td>\n",
              "      <td>538909.28</td>\n",
              "      <td>538909.28</td>\n",
              "    </tr>\n",
              "    <tr>\n",
              "      <th>2</th>\n",
              "      <td>ALBERT PARDINI</td>\n",
              "      <td>CAPTAIN III (POLICE DEPARTMENT)</td>\n",
              "      <td>335279.91</td>\n",
              "      <td>335279.91</td>\n",
              "    </tr>\n",
              "    <tr>\n",
              "      <th>3</th>\n",
              "      <td>CHRISTOPHER CHONG</td>\n",
              "      <td>WIRE ROPE CABLE MAINTENANCE MECHANIC</td>\n",
              "      <td>332343.61</td>\n",
              "      <td>332343.61</td>\n",
              "    </tr>\n",
              "    <tr>\n",
              "      <th>4</th>\n",
              "      <td>PATRICK GARDNER</td>\n",
              "      <td>DEPUTY CHIEF OF DEPARTMENT,(FIRE DEPARTMENT)</td>\n",
              "      <td>326373.19</td>\n",
              "      <td>326373.19</td>\n",
              "    </tr>\n",
              "    <tr>\n",
              "      <th>...</th>\n",
              "      <td>...</td>\n",
              "      <td>...</td>\n",
              "      <td>...</td>\n",
              "      <td>...</td>\n",
              "    </tr>\n",
              "    <tr>\n",
              "      <th>148649</th>\n",
              "      <td>Roy I Tillery</td>\n",
              "      <td>Custodian</td>\n",
              "      <td>0.00</td>\n",
              "      <td>0.00</td>\n",
              "    </tr>\n",
              "    <tr>\n",
              "      <th>148650</th>\n",
              "      <td>Not provided</td>\n",
              "      <td>Not provided</td>\n",
              "      <td>0.00</td>\n",
              "      <td>0.00</td>\n",
              "    </tr>\n",
              "    <tr>\n",
              "      <th>148651</th>\n",
              "      <td>Not provided</td>\n",
              "      <td>Not provided</td>\n",
              "      <td>0.00</td>\n",
              "      <td>0.00</td>\n",
              "    </tr>\n",
              "    <tr>\n",
              "      <th>148652</th>\n",
              "      <td>Not provided</td>\n",
              "      <td>Not provided</td>\n",
              "      <td>0.00</td>\n",
              "      <td>0.00</td>\n",
              "    </tr>\n",
              "    <tr>\n",
              "      <th>148653</th>\n",
              "      <td>Joe Lopez</td>\n",
              "      <td>Counselor, Log Cabin Ranch</td>\n",
              "      <td>-618.13</td>\n",
              "      <td>-618.13</td>\n",
              "    </tr>\n",
              "  </tbody>\n",
              "</table>\n",
              "<p>148654 rows × 4 columns</p>\n",
              "</div>"
            ],
            "text/plain": [
              "             EmployeeName                                        JobTitle  \\\n",
              "0          NATHANIEL FORD  GENERAL MANAGER-METROPOLITAN TRANSIT AUTHORITY   \n",
              "1            GARY JIMENEZ                 CAPTAIN III (POLICE DEPARTMENT)   \n",
              "2          ALBERT PARDINI                 CAPTAIN III (POLICE DEPARTMENT)   \n",
              "3       CHRISTOPHER CHONG            WIRE ROPE CABLE MAINTENANCE MECHANIC   \n",
              "4         PATRICK GARDNER    DEPUTY CHIEF OF DEPARTMENT,(FIRE DEPARTMENT)   \n",
              "...                   ...                                             ...   \n",
              "148649      Roy I Tillery                                       Custodian   \n",
              "148650       Not provided                                    Not provided   \n",
              "148651       Not provided                                    Not provided   \n",
              "148652       Not provided                                    Not provided   \n",
              "148653          Joe Lopez                      Counselor, Log Cabin Ranch   \n",
              "\n",
              "         TotalPay  TotalPayBenefits  \n",
              "0       567595.43         567595.43  \n",
              "1       538909.28         538909.28  \n",
              "2       335279.91         335279.91  \n",
              "3       332343.61         332343.61  \n",
              "4       326373.19         326373.19  \n",
              "...           ...               ...  \n",
              "148649       0.00              0.00  \n",
              "148650       0.00              0.00  \n",
              "148651       0.00              0.00  \n",
              "148652       0.00              0.00  \n",
              "148653    -618.13           -618.13  \n",
              "\n",
              "[148654 rows x 4 columns]"
            ]
          },
          "execution_count": 75,
          "metadata": {},
          "output_type": "execute_result"
        }
      ],
      "source": [
        "sal_new=\n",
        "sal_new"
      ]
    },
    {
      "cell_type": "markdown",
      "metadata": {
        "id": "_K-LOrUieB_W"
      },
      "source": [
        "**Print out the names of the employees who earn more than min, but less than avg**"
      ]
    },
    {
      "cell_type": "code",
      "execution_count": null,
      "metadata": {
        "id": "713ZpyIqeB_W",
        "outputId": "08ac3f01-aff7-4798-f8fe-7a868c9bfcdc"
      },
      "outputs": [
        {
          "data": {
            "text/plain": [
              "10806            KWE LEE\n",
              "10807     MIGUEL CARO JR\n",
              "10808      JOANNE MORRIS\n",
              "10809      LAYLA WELBORN\n",
              "10810            LE BANH\n",
              "               ...      \n",
              "148648       Leon Walker\n",
              "148649     Roy I Tillery\n",
              "148650      Not provided\n",
              "148651      Not provided\n",
              "148652      Not provided\n",
              "Name: EmployeeName, Length: 75649, dtype: object"
            ]
          },
          "execution_count": 77,
          "metadata": {},
          "output_type": "execute_result"
        }
      ],
      "source": [
        ""
      ]
    },
    {
      "cell_type": "code",
      "execution_count": null,
      "metadata": {
        "id": "m53A467zeB_W"
      },
      "outputs": [],
      "source": [
        ""
      ]
    }
  ],
  "metadata": {
    "anaconda-cloud": {},
    "kernelspec": {
      "display_name": "Python 3",
      "language": "python",
      "name": "python3"
    },
    "language_info": {
      "codemirror_mode": {
        "name": "ipython",
        "version": 3
      },
      "file_extension": ".py",
      "mimetype": "text/x-python",
      "name": "python",
      "nbconvert_exporter": "python",
      "pygments_lexer": "ipython3",
      "version": "3.8.5"
    },
    "colab": {
      "name": "Assignment-1-Student (1).ipynb",
      "provenance": [],
      "collapsed_sections": [],
      "include_colab_link": true
    }
  },
  "nbformat": 4,
  "nbformat_minor": 0
}